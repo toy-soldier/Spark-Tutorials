{
 "cells": [
  {
   "cell_type": "code",
   "execution_count": 4,
   "id": "2571dd89",
   "metadata": {},
   "outputs": [],
   "source": [
    "from pyspark.sql import SparkSession\n",
    "\n",
    "DIRPATH = \"C:/Users/sanjay s risbud/Dropbox/My Work/practice/python/pyspark/Spark-Tutorials-master/data/\"\n",
    "spark = SparkSession.builder.appName(\"Exercise\").getOrCreate()\n"
   ]
  },
  {
   "cell_type": "code",
   "execution_count": 5,
   "id": "25fb1efb",
   "metadata": {},
   "outputs": [],
   "source": [
    "df = spark.read.csv(DIRPATH + \"appl_stock.csv\", header=True, inferSchema=True)"
   ]
  },
  {
   "cell_type": "code",
   "execution_count": 14,
   "id": "493b6f1a",
   "metadata": {},
   "outputs": [
    {
     "name": "stdout",
     "output_type": "stream",
     "text": [
      "+----+-------------+\n",
      "|  FY|Average Close|\n",
      "+----+-------------+\n",
      "|2010|       259.84|\n",
      "|2011|       364.00|\n",
      "|2012|       576.05|\n",
      "|2013|       472.63|\n",
      "|2014|       295.40|\n",
      "|2015|       120.04|\n",
      "|2016|       104.60|\n",
      "+----+-------------+\n",
      "\n"
     ]
    }
   ],
   "source": [
    "# avg closing price per year\n",
    "from pyspark.sql.functions import avg, col, year, format_number, date_format\n",
    "\n",
    "new_df = df.withColumn(\"FY\", year(df[\"Date\"]))\n",
    "new_df.groupBy(new_df[\"FY\"]).agg(format_number(avg(col(\"Close\")), 2).alias(\"Average Close\")).orderBy(\"FY\").show()"
   ]
  },
  {
   "cell_type": "code",
   "execution_count": null,
   "id": "0fe0c826",
   "metadata": {},
   "outputs": [],
   "source": []
  }
 ],
 "metadata": {
  "kernelspec": {
   "display_name": "Python 3 (ipykernel)",
   "language": "python",
   "name": "python3"
  },
  "language_info": {
   "codemirror_mode": {
    "name": "ipython",
    "version": 3
   },
   "file_extension": ".py",
   "mimetype": "text/x-python",
   "name": "python",
   "nbconvert_exporter": "python",
   "pygments_lexer": "ipython3",
   "version": "3.9.6"
  }
 },
 "nbformat": 4,
 "nbformat_minor": 5
}
