{
 "cells": [
  {
   "cell_type": "code",
   "execution_count": 15,
   "id": "2571dd89",
   "metadata": {},
   "outputs": [],
   "source": [
    "from pyspark.sql import SparkSession\n",
    "\n",
    "DIRPATH = \"C:/Users/sanjay s risbud/Dropbox/My Work/practice/python/pyspark/Spark-Tutorials-master/data/\"\n",
    "spark = SparkSession.builder.appName(\"Exercise\").getOrCreate()"
   ]
  },
  {
   "cell_type": "code",
   "execution_count": 16,
   "id": "25fb1efb",
   "metadata": {},
   "outputs": [],
   "source": [
    "df = spark.read.csv(DIRPATH + \"walmart_stock.csv\", header=True, inferSchema=True)"
   ]
  },
  {
   "cell_type": "code",
   "execution_count": 17,
   "id": "1808b510",
   "metadata": {},
   "outputs": [
    {
     "data": {
      "text/plain": [
       "['Date', 'Open', 'High', 'Low', 'Close', 'Volume', 'Adj Close']"
      ]
     },
     "execution_count": 17,
     "metadata": {},
     "output_type": "execute_result"
    }
   ],
   "source": [
    "df.columns"
   ]
  },
  {
   "cell_type": "code",
   "execution_count": 18,
   "id": "f27b312f",
   "metadata": {},
   "outputs": [
    {
     "name": "stdout",
     "output_type": "stream",
     "text": [
      "root\n",
      " |-- Date: string (nullable = true)\n",
      " |-- Open: double (nullable = true)\n",
      " |-- High: double (nullable = true)\n",
      " |-- Low: double (nullable = true)\n",
      " |-- Close: double (nullable = true)\n",
      " |-- Volume: integer (nullable = true)\n",
      " |-- Adj Close: double (nullable = true)\n",
      "\n"
     ]
    }
   ],
   "source": [
    "df.printSchema()"
   ]
  },
  {
   "cell_type": "code",
   "execution_count": 19,
   "id": "6285b2c1",
   "metadata": {},
   "outputs": [
    {
     "name": "stdout",
     "output_type": "stream",
     "text": [
      "Row(Date='2012-01-03', Open=59.970001, High=61.060001, Low=59.869999, Close=60.330002, Volume=12668800, Adj Close=52.619234999999996)\n",
      "\n",
      "Row(Date='2012-01-04', Open=60.209998999999996, High=60.349998, Low=59.470001, Close=59.709998999999996, Volume=9593300, Adj Close=52.078475)\n",
      "\n",
      "Row(Date='2012-01-05', Open=59.349998, High=59.619999, Low=58.369999, Close=59.419998, Volume=12768200, Adj Close=51.825539)\n",
      "\n",
      "Row(Date='2012-01-06', Open=59.419998, High=59.450001, Low=58.869999, Close=59.0, Volume=8069400, Adj Close=51.45922)\n",
      "\n",
      "Row(Date='2012-01-09', Open=59.029999, High=59.549999, Low=58.919998, Close=59.18, Volume=6679300, Adj Close=51.616215000000004)\n",
      "\n"
     ]
    }
   ],
   "source": [
    "for row in df.head(5):\n",
    "    print(row, end=\"\\n\\n\")"
   ]
  },
  {
   "cell_type": "code",
   "execution_count": 20,
   "id": "d917b1a5",
   "metadata": {},
   "outputs": [
    {
     "name": "stdout",
     "output_type": "stream",
     "text": [
      "+-------+----------+------------------+-----------------+-----------------+-----------------+-----------------+-----------------+\n",
      "|summary|      Date|              Open|             High|              Low|            Close|           Volume|        Adj Close|\n",
      "+-------+----------+------------------+-----------------+-----------------+-----------------+-----------------+-----------------+\n",
      "|  count|      1258|              1258|             1258|             1258|             1258|             1258|             1258|\n",
      "|   mean|      null| 72.35785375357709|72.83938807631165| 71.9186009594594|72.38844998012726|8222093.481717011|67.23883848728146|\n",
      "| stddev|      null|  6.76809024470826|6.768186808159218|6.744075756255496|6.756859163732991|  4519780.8431556|6.722609449996857|\n",
      "|    min|2012-01-03|56.389998999999996|        57.060001|        56.299999|        56.419998|          2094900|        50.363689|\n",
      "|    max|2016-12-30|         90.800003|        90.970001|            89.25|        90.470001|         80898100|84.91421600000001|\n",
      "+-------+----------+------------------+-----------------+-----------------+-----------------+-----------------+-----------------+\n",
      "\n"
     ]
    }
   ],
   "source": [
    "df.describe().show()"
   ]
  },
  {
   "cell_type": "code",
   "execution_count": 40,
   "id": "d08c4a23",
   "metadata": {},
   "outputs": [
    {
     "name": "stdout",
     "output_type": "stream",
     "text": [
      "+-------+----------+--------+--------+--------+--------+----------+---------+\n",
      "|summary|      Date|    Open|    High|     Low|   Close|    Volume|Adj Close|\n",
      "+-------+----------+--------+--------+--------+--------+----------+---------+\n",
      "|  count|      1258|1,258.00|1,258.00|1,258.00|1,258.00|     1,258| 1,258.00|\n",
      "|   mean|      null|   72.36|   72.84|   71.92|   72.39| 8,222,093|    67.24|\n",
      "| stddev|      null|    6.77|    6.77|    6.74|    6.76| 4,519,780|     6.72|\n",
      "|    min|2012-01-03|   56.39|   57.06|   56.30|   56.42| 2,094,900|    50.36|\n",
      "|    max|2016-12-30|   90.80|   90.97|   89.25|   90.47|80,898,100|    84.91|\n",
      "+-------+----------+--------+--------+--------+--------+----------+---------+\n",
      "\n"
     ]
    }
   ],
   "source": [
    "from pyspark.sql.functions import format_number\n",
    "stats = df.describe()\n",
    "columns = []\n",
    "for name in stats.columns: \n",
    "    if name not in [\"summary\", \"Date\", \"Volume\"]:\n",
    "        column = format_number(stats[name].cast(\"float\"), 2).alias(name)\n",
    "    elif name == \"Volume\":\n",
    "        column = format_number(stats[name].cast(\"int\"), 0).alias(name)\n",
    "    else:\n",
    "        column = name\n",
    "    columns.append(column)\n",
    "stats.select(columns).show()"
   ]
  },
  {
   "cell_type": "code",
   "execution_count": 44,
   "id": "f0938a7c",
   "metadata": {},
   "outputs": [
    {
     "name": "stdout",
     "output_type": "stream",
     "text": [
      "+----------+--------------------+\n",
      "|      Date|            HV Ratio|\n",
      "+----------+--------------------+\n",
      "|2012-01-03|4.819714653321546E-6|\n",
      "|2012-01-04|6.290848613094555E-6|\n",
      "|2012-01-05|4.669412994783916E-6|\n",
      "|2012-01-06|7.367338463826307E-6|\n",
      "|2012-01-09|8.915604778943901E-6|\n",
      "|2012-01-10|8.644477436914568E-6|\n",
      "|2012-01-11|9.351828421515645E-6|\n",
      "|2012-01-12| 8.29141562102703E-6|\n",
      "|2012-01-13|7.712212102001476E-6|\n",
      "|2012-01-17|7.071764823529412E-6|\n",
      "|2012-01-18|1.015495466386981E-5|\n",
      "|2012-01-19|6.576354146362592...|\n",
      "|2012-01-20| 5.90145296180676E-6|\n",
      "|2012-01-23|8.547679455011844E-6|\n",
      "|2012-01-24|8.420709512685392E-6|\n",
      "|2012-01-25|1.041448341728929...|\n",
      "|2012-01-26|8.316075414862431E-6|\n",
      "|2012-01-27|9.721183814992126E-6|\n",
      "|2012-01-30|8.029436027707578E-6|\n",
      "|2012-01-31|6.307432259386365E-6|\n",
      "+----------+--------------------+\n",
      "only showing top 20 rows\n",
      "\n"
     ]
    }
   ],
   "source": [
    "df.withColumn(\"HV Ratio\", df[\"High\"] / df[\"Volume\"]).select([\"Date\", \"HV Ratio\"]).show()"
   ]
  },
  {
   "cell_type": "code",
   "execution_count": 51,
   "id": "9b6f0a94",
   "metadata": {},
   "outputs": [
    {
     "data": {
      "text/plain": [
       "'2015-01-13'"
      ]
     },
     "execution_count": 51,
     "metadata": {},
     "output_type": "execute_result"
    }
   ],
   "source": [
    "df.filter(df[\"High\"] == df.agg({\"High\": \"max\"}).first()[0]).collect()[0][0]"
   ]
  },
  {
   "cell_type": "code",
   "execution_count": 53,
   "id": "08ad6577",
   "metadata": {},
   "outputs": [
    {
     "name": "stdout",
     "output_type": "stream",
     "text": [
      "+-----------------+\n",
      "|       avg(Close)|\n",
      "+-----------------+\n",
      "|72.38844998012726|\n",
      "+-----------------+\n",
      "\n"
     ]
    }
   ],
   "source": [
    "df.agg({\"Close\": \"avg\"}).show()"
   ]
  },
  {
   "cell_type": "code",
   "execution_count": 55,
   "id": "e0b6d884",
   "metadata": {},
   "outputs": [
    {
     "name": "stdout",
     "output_type": "stream",
     "text": [
      "+-----------+-----------+\n",
      "|max(Volume)|min(Volume)|\n",
      "+-----------+-----------+\n",
      "|   80898100|    2094900|\n",
      "+-----------+-----------+\n",
      "\n"
     ]
    }
   ],
   "source": [
    "from pyspark.sql.functions import min, max\n",
    "df.select(max(df[\"Volume\"]), min(df[\"Volume\"])).show()"
   ]
  },
  {
   "cell_type": "code",
   "execution_count": 58,
   "id": "264dc7f1",
   "metadata": {},
   "outputs": [
    {
     "data": {
      "text/plain": [
       "81"
      ]
     },
     "execution_count": 58,
     "metadata": {},
     "output_type": "execute_result"
    }
   ],
   "source": [
    "df.filter(df[\"Close\"] < 60).count()"
   ]
  },
  {
   "cell_type": "code",
   "execution_count": 61,
   "id": "aa2ab0cc",
   "metadata": {},
   "outputs": [
    {
     "data": {
      "text/plain": [
       "9.141494435612083"
      ]
     },
     "execution_count": 61,
     "metadata": {},
     "output_type": "execute_result"
    }
   ],
   "source": [
    "100 * (df.filter(df[\"High\"] > 80).count())/df.count()"
   ]
  },
  {
   "cell_type": "code",
   "execution_count": 64,
   "id": "4517eb42",
   "metadata": {},
   "outputs": [
    {
     "data": {
      "text/plain": [
       "-0.3384326061737161"
      ]
     },
     "execution_count": 64,
     "metadata": {},
     "output_type": "execute_result"
    }
   ],
   "source": [
    "df.corr(\"High\", \"Volume\")"
   ]
  },
  {
   "cell_type": "code",
   "execution_count": 70,
   "id": "bd1a27c6",
   "metadata": {},
   "outputs": [
    {
     "name": "stdout",
     "output_type": "stream",
     "text": [
      "+----+---------+\n",
      "|Year|max(High)|\n",
      "+----+---------+\n",
      "|2012|77.599998|\n",
      "|2013|81.370003|\n",
      "|2014|88.089996|\n",
      "|2015|90.970001|\n",
      "|2016|75.190002|\n",
      "+----+---------+\n",
      "\n"
     ]
    }
   ],
   "source": [
    "df = df.withColumn(\"Year\", df[\"Date\"][0:4])\n",
    "df.groupBy(df[\"Year\"]).agg({\"High\": \"max\"}).orderBy(\"Year\").show()"
   ]
  },
  {
   "cell_type": "code",
   "execution_count": 72,
   "id": "2ea147ba",
   "metadata": {},
   "outputs": [
    {
     "name": "stdout",
     "output_type": "stream",
     "text": [
      "+-----+-----------------+\n",
      "|Month|       avg(Close)|\n",
      "+-----+-----------------+\n",
      "|   01|71.44801958415842|\n",
      "|   02|  71.306804443299|\n",
      "|   03|71.77794377570092|\n",
      "|   04|72.97361900952382|\n",
      "|   05|72.30971688679247|\n",
      "|   06| 72.4953774245283|\n",
      "|   07|74.43971943925233|\n",
      "|   08|73.02981855454546|\n",
      "|   09|72.18411785294116|\n",
      "|   10|71.57854545454543|\n",
      "|   11| 72.1110893069307|\n",
      "|   12|72.84792478301885|\n",
      "+-----+-----------------+\n",
      "\n"
     ]
    }
   ],
   "source": [
    "df = df.withColumn(\"Month\", df[\"Date\"][6:2])\n",
    "df.groupBy(df[\"Month\"]).agg({\"Close\": \"avg\"}).orderBy(\"Month\").show()"
   ]
  }
 ],
 "metadata": {
  "kernelspec": {
   "display_name": "Python 3 (ipykernel)",
   "language": "python",
   "name": "python3"
  },
  "language_info": {
   "codemirror_mode": {
    "name": "ipython",
    "version": 3
   },
   "file_extension": ".py",
   "mimetype": "text/x-python",
   "name": "python",
   "nbconvert_exporter": "python",
   "pygments_lexer": "ipython3",
   "version": "3.9.6"
  }
 },
 "nbformat": 4,
 "nbformat_minor": 5
}
